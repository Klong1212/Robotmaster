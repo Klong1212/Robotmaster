{
 "cells": [
  {
   "cell_type": "markdown",
   "id": "e4999beb",
   "metadata": {},
   "source": [
    "# Design Algolithm\n",
    "- ออกแบบ Map\n",
    "- ระยะทาง ให้  ระยะทางทั้งจาก Block แรกถึง Block ถัดไป / ความกว้าง 1 Block = 1\n",
    "- เก็บ ข้อมูลเป็น Array Row 1 มี 2 Colunm"
   ]
  },
  {
   "cell_type": "code",
   "execution_count": 2,
   "id": "535b0093",
   "metadata": {},
   "outputs": [],
   "source": [
    "import pandas as pd\n",
    "import numpy as np"
   ]
  },
  {
   "cell_type": "code",
   "execution_count": null,
   "id": "535b0093",
   "metadata": {
    "vscode": {
     "languageId": "plaintext"
    }
   },
   "outputs": [],
   "source": [
    "while True:\n",
    "    try:\n",
    "        x, y = map(int, input(\"Enter coordinates (x y): \").split())\n",
    "        if [x, y] in status[\"wall\"]:\n",
    "            print(\"This position is a wall.\")\n",
    "        else:\n",
    "            status[\"position\"].append([x, y])\n",
    "            print(f\"Position updated: {status['position']}\")\n",
    "    except ValueError:\n",
    "        print(\"Invalid input. Please enter two integers separated by space.\")\n",
    "        break\n",
    "    except KeyboardInterrupt:\n",
    "        print(\"\\nExiting the program.\")\n",
    "        break"
   ]
  }
 ],
 "metadata": {
  "language_info": {
   "name": "python"
  }
 },
 "nbformat": 4,
 "nbformat_minor": 5
}
