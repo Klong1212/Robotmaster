{
 "cells": [
  {
   "cell_type": "markdown",
   "id": "e4999beb",
   "metadata": {},
   "source": [
    "# Design Algolithm\n",
    "- ออกแบบ Map\n",
    "- ระยะทาง ให้  ระยะทางทั้งจาก Block แรกถึง Block ถัดไป / ความกว้าง 1 Block = 1\n",
    "- เก็บ ข้อมูลเป็น Array Row 1 มี 2 Colunm"
   ]
  },
  {
   "cell_type": "code",
   "execution_count": null,
   "id": "8f1181d3",
   "metadata": {},
   "outputs": [],
   "source": []
  }
 ],
 "metadata": {
  "kernelspec": {
   "display_name": "myrobot",
   "language": "python",
   "name": "python3"
  },
  "language_info": {
   "codemirror_mode": {
    "name": "ipython",
    "version": 3
   },
   "file_extension": ".py",
   "mimetype": "text/x-python",
   "name": "python",
   "nbconvert_exporter": "python",
   "pygments_lexer": "ipython3",
   "version": "3.8.10"
  }
 },
 "nbformat": 4,
 "nbformat_minor": 5
}
